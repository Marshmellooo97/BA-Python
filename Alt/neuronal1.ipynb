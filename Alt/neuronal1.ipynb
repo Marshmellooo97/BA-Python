{
 "cells": [
  {
   "cell_type": "code",
   "execution_count": 8,
   "metadata": {},
   "outputs": [],
   "source": [
    "import pandas as pd\n",
    "import numpy as np\n",
    "import matplotlib\n",
    "matplotlib.use('TkAgg')\n",
    "import matplotlib.pyplot as plt\n",
    "import seaborn as sns\n",
    "import os\n",
    "import tensorflow as tf\n",
    "from tensorflow.keras.models import Sequential\n",
    "from tensorflow.keras.layers import Dense, Activation, Input, Dropout\n",
    "from tensorflow.keras.models import load_model\n",
    "from tensorflow.keras.callbacks import EarlyStopping\n",
    "from tensorflow.keras.models import Sequential\n",
    "from tensorflow.keras.layers import Dense, Dropout\n",
    "from tensorflow.keras.optimizers import Adam\n",
    "from sklearn.model_selection import train_test_split\n",
    "from sklearn.preprocessing import MinMaxScaler\n",
    "from sklearn.metrics import mean_squared_error, mean_absolute_error\n",
    "from sklearn.tree import DecisionTreeClassifier\n",
    "from sklearn.metrics import accuracy_score, classification_report, confusion_matrix\n",
    "import psutil\n",
    "import time\n",
    "import csv\n",
    "\n",
    "\n",
    "\n",
    "x_train = pd.read_csv('../Testdaten/xTrain.csv')\n",
    "x_test = pd.read_csv('../Testdaten/xTest.csv')\n",
    "y_train = pd.read_csv('../Testdaten/yTrain.csv')\n",
    "y_test = pd.read_csv('../Testdaten/yTest.csv')\n"
   ]
  },
  {
   "cell_type": "code",
   "execution_count": 9,
   "metadata": {},
   "outputs": [
    {
     "name": "stdout",
     "output_type": "stream",
     "text": [
      "Epoch 1/20\n"
     ]
    },
    {
     "name": "stderr",
     "output_type": "stream",
     "text": [
      "/home/justin.simon/repos/BA/BA-Python/.venv/lib/python3.10/site-packages/keras/src/layers/core/dense.py:87: UserWarning: Do not pass an `input_shape`/`input_dim` argument to a layer. When using Sequential models, prefer using an `Input(shape)` object as the first layer in the model instead.\n",
      "  super().__init__(activity_regularizer=activity_regularizer, **kwargs)\n"
     ]
    },
    {
     "name": "stdout",
     "output_type": "stream",
     "text": [
      "\u001b[1m1402/1402\u001b[0m \u001b[32m━━━━━━━━━━━━━━━━━━━━\u001b[0m\u001b[37m\u001b[0m \u001b[1m4s\u001b[0m 2ms/step - accuracy: 0.8344 - loss: 0.3931 - val_accuracy: 0.8777 - val_loss: 0.2914\n",
      "Epoch 2/20\n",
      "\u001b[1m1402/1402\u001b[0m \u001b[32m━━━━━━━━━━━━━━━━━━━━\u001b[0m\u001b[37m\u001b[0m \u001b[1m3s\u001b[0m 2ms/step - accuracy: 0.8741 - loss: 0.3009 - val_accuracy: 0.8816 - val_loss: 0.2791\n",
      "Epoch 3/20\n",
      "\u001b[1m1402/1402\u001b[0m \u001b[32m━━━━━━━━━━━━━━━━━━━━\u001b[0m\u001b[37m\u001b[0m \u001b[1m3s\u001b[0m 2ms/step - accuracy: 0.8762 - loss: 0.2885 - val_accuracy: 0.8839 - val_loss: 0.2714\n",
      "Epoch 4/20\n",
      "\u001b[1m1402/1402\u001b[0m \u001b[32m━━━━━━━━━━━━━━━━━━━━\u001b[0m\u001b[37m\u001b[0m \u001b[1m3s\u001b[0m 2ms/step - accuracy: 0.8826 - loss: 0.2768 - val_accuracy: 0.8858 - val_loss: 0.2682\n",
      "Epoch 5/20\n",
      "\u001b[1m1402/1402\u001b[0m \u001b[32m━━━━━━━━━━━━━━━━━━━━\u001b[0m\u001b[37m\u001b[0m \u001b[1m3s\u001b[0m 2ms/step - accuracy: 0.8833 - loss: 0.2754 - val_accuracy: 0.8860 - val_loss: 0.2610\n",
      "Epoch 6/20\n",
      "\u001b[1m1402/1402\u001b[0m \u001b[32m━━━━━━━━━━━━━━━━━━━━\u001b[0m\u001b[37m\u001b[0m \u001b[1m3s\u001b[0m 2ms/step - accuracy: 0.8814 - loss: 0.2717 - val_accuracy: 0.8863 - val_loss: 0.2591\n",
      "Epoch 7/20\n",
      "\u001b[1m1402/1402\u001b[0m \u001b[32m━━━━━━━━━━━━━━━━━━━━\u001b[0m\u001b[37m\u001b[0m \u001b[1m3s\u001b[0m 2ms/step - accuracy: 0.8846 - loss: 0.2660 - val_accuracy: 0.8877 - val_loss: 0.2566\n",
      "Epoch 8/20\n",
      "\u001b[1m1402/1402\u001b[0m \u001b[32m━━━━━━━━━━━━━━━━━━━━\u001b[0m\u001b[37m\u001b[0m \u001b[1m3s\u001b[0m 2ms/step - accuracy: 0.8866 - loss: 0.2624 - val_accuracy: 0.8824 - val_loss: 0.2578\n",
      "Epoch 9/20\n",
      "\u001b[1m1402/1402\u001b[0m \u001b[32m━━━━━━━━━━━━━━━━━━━━\u001b[0m\u001b[37m\u001b[0m \u001b[1m3s\u001b[0m 2ms/step - accuracy: 0.8844 - loss: 0.2613 - val_accuracy: 0.8879 - val_loss: 0.2533\n",
      "Epoch 10/20\n",
      "\u001b[1m1402/1402\u001b[0m \u001b[32m━━━━━━━━━━━━━━━━━━━━\u001b[0m\u001b[37m\u001b[0m \u001b[1m3s\u001b[0m 2ms/step - accuracy: 0.8874 - loss: 0.2584 - val_accuracy: 0.8914 - val_loss: 0.2460\n",
      "Epoch 11/20\n",
      "\u001b[1m1402/1402\u001b[0m \u001b[32m━━━━━━━━━━━━━━━━━━━━\u001b[0m\u001b[37m\u001b[0m \u001b[1m3s\u001b[0m 2ms/step - accuracy: 0.8844 - loss: 0.2586 - val_accuracy: 0.8900 - val_loss: 0.2436\n",
      "Epoch 12/20\n",
      "\u001b[1m1402/1402\u001b[0m \u001b[32m━━━━━━━━━━━━━━━━━━━━\u001b[0m\u001b[37m\u001b[0m \u001b[1m3s\u001b[0m 2ms/step - accuracy: 0.8857 - loss: 0.2552 - val_accuracy: 0.8881 - val_loss: 0.2490\n",
      "Epoch 13/20\n",
      "\u001b[1m1402/1402\u001b[0m \u001b[32m━━━━━━━━━━━━━━━━━━━━\u001b[0m\u001b[37m\u001b[0m \u001b[1m3s\u001b[0m 2ms/step - accuracy: 0.8908 - loss: 0.2484 - val_accuracy: 0.8917 - val_loss: 0.2457\n",
      "Epoch 14/20\n",
      "\u001b[1m1402/1402\u001b[0m \u001b[32m━━━━━━━━━━━━━━━━━━━━\u001b[0m\u001b[37m\u001b[0m \u001b[1m3s\u001b[0m 2ms/step - accuracy: 0.8875 - loss: 0.2489 - val_accuracy: 0.8920 - val_loss: 0.2384\n",
      "Epoch 15/20\n",
      "\u001b[1m1402/1402\u001b[0m \u001b[32m━━━━━━━━━━━━━━━━━━━━\u001b[0m\u001b[37m\u001b[0m \u001b[1m3s\u001b[0m 2ms/step - accuracy: 0.8879 - loss: 0.2488 - val_accuracy: 0.8919 - val_loss: 0.2439\n",
      "Epoch 16/20\n",
      "\u001b[1m1402/1402\u001b[0m \u001b[32m━━━━━━━━━━━━━━━━━━━━\u001b[0m\u001b[37m\u001b[0m \u001b[1m3s\u001b[0m 2ms/step - accuracy: 0.8869 - loss: 0.2509 - val_accuracy: 0.8960 - val_loss: 0.2384\n",
      "Epoch 17/20\n",
      "\u001b[1m1402/1402\u001b[0m \u001b[32m━━━━━━━━━━━━━━━━━━━━\u001b[0m\u001b[37m\u001b[0m \u001b[1m3s\u001b[0m 2ms/step - accuracy: 0.8909 - loss: 0.2383 - val_accuracy: 0.8973 - val_loss: 0.2326\n",
      "Epoch 18/20\n",
      "\u001b[1m1402/1402\u001b[0m \u001b[32m━━━━━━━━━━━━━━━━━━━━\u001b[0m\u001b[37m\u001b[0m \u001b[1m3s\u001b[0m 2ms/step - accuracy: 0.8904 - loss: 0.2436 - val_accuracy: 0.8962 - val_loss: 0.2316\n",
      "Epoch 19/20\n",
      "\u001b[1m1402/1402\u001b[0m \u001b[32m━━━━━━━━━━━━━━━━━━━━\u001b[0m\u001b[37m\u001b[0m \u001b[1m3s\u001b[0m 2ms/step - accuracy: 0.8926 - loss: 0.2401 - val_accuracy: 0.8950 - val_loss: 0.2320\n",
      "Epoch 20/20\n",
      "\u001b[1m1402/1402\u001b[0m \u001b[32m━━━━━━━━━━━━━━━━━━━━\u001b[0m\u001b[37m\u001b[0m \u001b[1m3s\u001b[0m 2ms/step - accuracy: 0.8916 - loss: 0.2387 - val_accuracy: 0.8960 - val_loss: 0.2308\n"
     ]
    }
   ],
   "source": [
    "model = Sequential()\n",
    "model.add(Dense(units=389, activation='relu', input_shape=(389,)))\n",
    "model.add(Dropout(0.1))\n",
    "model.add(Dense(units=1, activation='sigmoid'))\n",
    "\n",
    "optimizer = Adam(learning_rate=0.0001)\n",
    "\n",
    "model.compile(loss='binary_crossentropy', optimizer=optimizer, metrics=['accuracy'])\n",
    "\n",
    "\n",
    "early_stopping = EarlyStopping(monitor='val_loss', patience=10, restore_best_weights=True)\n",
    "\n",
    "history = model.fit(x_train, y_train, epochs=20, validation_data=(x_test, y_test), \n",
    "                    verbose=1, callbacks=[early_stopping])\n",
    "\n"
   ]
  },
  {
   "cell_type": "code",
   "execution_count": null,
   "metadata": {},
   "outputs": [],
   "source": [
    "model = Sequential()\n",
    "model.add(Dense(units=388, activation='relu', input_shape=(388,)))\n",
    "optimizer = Adam(learning_rate=0.0001)\n",
    "\n",
    "model.compile(loss='binary_crossentropy', optimizer=optimizer, metrics=['accuracy'])\n",
    "model.add(Dense(1, activation='sigmoid'))\n",
    "\n",
    "early_stopping = EarlyStopping(monitor='val_loss', patience=10, restore_best_weights=True)\n",
    "\n",
    "history = model.fit(x_train, y_train, epochs=2000, validation_data=(x_test, y_test), \n",
    "                    verbose=1, callbacks=[early_stopping])\n",
    "\n"
   ]
  },
  {
   "cell_type": "code",
   "execution_count": 4,
   "metadata": {},
   "outputs": [],
   "source": [
    "pd.DataFrame(model.history.history).plot()\n",
    "plt.title('Model 1')\n",
    "plt.show()"
   ]
  },
  {
   "cell_type": "code",
   "execution_count": 5,
   "metadata": {},
   "outputs": [
    {
     "name": "stdout",
     "output_type": "stream",
     "text": [
      "\u001b[1m601/601\u001b[0m \u001b[32m━━━━━━━━━━━━━━━━━━━━\u001b[0m\u001b[37m\u001b[0m \u001b[1m0s\u001b[0m 713us/step\n",
      "Accuracy: 0.8954897778702596\n",
      "Classification Report:\n",
      "              precision    recall  f1-score   support\n",
      "\n",
      "           0       0.88      0.97      0.93     13105\n",
      "           1       0.93      0.73      0.82      6118\n",
      "\n",
      "    accuracy                           0.90     19223\n",
      "   macro avg       0.91      0.85      0.87     19223\n",
      "weighted avg       0.90      0.90      0.89     19223\n",
      "\n",
      "Confusion Matrix:\n",
      "[[12758   347]\n",
      " [ 1662  4456]]\n"
     ]
    }
   ],
   "source": [
    "y_pred = (model.predict(x_test) > 0.5).astype(\"int32\")  # Umwandlung der Wahrscheinlichkeiten in Klassen\n",
    "\n",
    "\n",
    "# Modell bewerten\n",
    "accuracy = accuracy_score(y_test, y_pred)\n",
    "report = classification_report(y_test, y_pred)\n",
    "\n",
    "print(f\"Accuracy: {accuracy}\")\n",
    "print(f\"Classification Report:\\n{report}\")\n",
    "\n",
    "\n",
    "\n",
    "\n",
    "# Confusion Matrix berechnen\n",
    "conf_matrix = confusion_matrix(y_test, y_pred)\n",
    "print(f\"Confusion Matrix:\\n{conf_matrix}\")\n",
    "plt.figure(figsize=(8, 6))\n",
    "sns.heatmap(conf_matrix, annot=True, fmt=\"d\", cmap=\"Blues\", cbar=False)\n",
    "plt.xlabel(\"Predicted Label\")\n",
    "plt.ylabel(\"True Label\")\n",
    "plt.title(\"Confusion Matrix\")\n",
    "plt.title('Model 1')\n",
    "plt.show()"
   ]
  }
 ],
 "metadata": {
  "kernelspec": {
   "display_name": ".venv",
   "language": "python",
   "name": "python3"
  },
  "language_info": {
   "codemirror_mode": {
    "name": "ipython",
    "version": 3
   },
   "file_extension": ".py",
   "mimetype": "text/x-python",
   "name": "python",
   "nbconvert_exporter": "python",
   "pygments_lexer": "ipython3",
   "version": "3.10.12"
  }
 },
 "nbformat": 4,
 "nbformat_minor": 2
}
